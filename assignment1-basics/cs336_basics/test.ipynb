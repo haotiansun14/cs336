{
 "cells": [
  {
   "cell_type": "code",
   "execution_count": 1,
   "id": "73c66595",
   "metadata": {},
   "outputs": [],
   "source": [
    "import regex as re\n",
    "\n",
    "PAT = r\"\"\"'(?:[sdmt]|ll|ve|re)| ?\\p{L}+| ?\\p{N}+| ?[^\\s\\p{L}\\p{N}]+|\\s+(?!\\S)|\\s+\"\"\""
   ]
  },
  {
   "cell_type": "code",
   "execution_count": 71,
   "id": "6da12f9a",
   "metadata": {},
   "outputs": [],
   "source": [
    "test_text = '''\n",
    "low low low low low lower lower widest widest widest newest newest newest newest newest newest\n",
    "'''.strip()\n",
    "\n",
    "# re.findall(PAT, test_text)\n",
    "pre_tokens = test_text.split()"
   ]
  },
  {
   "cell_type": "code",
   "execution_count": 19,
   "id": "e7fb8564",
   "metadata": {},
   "outputs": [
    {
     "name": "stdout",
     "output_type": "stream",
     "text": [
      "[(b'\\xe6', b'\\xb5', b'\\x8b', b'\\xe8', b'\\xaf', b'\\x95'), (b'l', b'o', b'w'), (b'l', b'o', b'w'), (b'l', b'o', b'w'), (b'l', b'o', b'w'), (b'l', b'o', b'w'), (b'l', b'o', b'w', b'e', b'r'), (b'l', b'o', b'w', b'e', b'r'), (b'w', b'i', b'd', b'e', b's', b't'), (b'w', b'i', b'd', b'e', b's', b't'), (b'w', b'i', b'd', b'e', b's', b't'), (b'n', b'e', b'w', b'e', b's', b't'), (b'n', b'e', b'w', b'e', b's', b't'), (b'n', b'e', b'w', b'e', b's', b't'), (b'n', b'e', b'w', b'e', b's', b't'), (b'n', b'e', b'w', b'e', b's', b't'), (b'n', b'e', b'w', b'e', b's', b't')]\n"
     ]
    }
   ],
   "source": [
    "# convert single word to bytes tuple\n",
    "def word_to_byte_tuple(word):\n",
    "    return tuple(bytes([b]) for b in word.encode('utf-8'))\n",
    "\n",
    "print([word_to_byte_tuple(p) for p in pre_tokens])"
   ]
  },
  {
   "cell_type": "code",
   "execution_count": 33,
   "id": "a9be4d0c",
   "metadata": {},
   "outputs": [
    {
     "name": "stdout",
     "output_type": "stream",
     "text": [
      "Counter({'newest': 6, 'low': 5, 'widest': 3, 'lower': 2, '测试': 1})\n"
     ]
    }
   ],
   "source": [
    "# get frequency table\n",
    "from collections import Counter, defaultdict\n",
    "freq_table = Counter(pre_tokens)\n",
    "\n",
    "print(freq_table)"
   ]
  },
  {
   "cell_type": "code",
   "execution_count": 22,
   "id": "1797989c",
   "metadata": {},
   "outputs": [
    {
     "name": "stdout",
     "output_type": "stream",
     "text": [
      "{(b'\\xe6', b'\\xb5', b'\\x8b', b'\\xe8', b'\\xaf', b'\\x95'): 1, (b'l', b'o', b'w'): 5, (b'l', b'o', b'w', b'e', b'r'): 2, (b'w', b'i', b'd', b'e', b's', b't'): 3, (b'n', b'e', b'w', b'e', b's', b't'): 6}\n"
     ]
    }
   ],
   "source": [
    "# combine together\n",
    "def get_freq_table(token_list): \n",
    "    freq_table = Counter(token_list)\n",
    "    freq_table_bytes = {word_to_byte_tuple(word): freq for word, freq in freq_table.items()}\n",
    "    return freq_table_bytes\n",
    "\n",
    "print(get_freq_table(pre_tokens))"
   ]
  },
  {
   "cell_type": "code",
   "execution_count": 42,
   "id": "ce982fd6",
   "metadata": {},
   "outputs": [
    {
     "name": "stdout",
     "output_type": "stream",
     "text": [
      "{(b'\\xe6', b'\\xb5'): 1, (b'\\xb5', b'\\x8b'): 1, (b'\\x8b', b'\\xe8'): 1, (b'\\xe8', b'\\xaf'): 1, (b'\\xaf', b'\\x95'): 1, (b'l', b'o'): 7, (b'o', b'w'): 7, (b'w', b'e'): 8, (b'e', b'r'): 2, (b'w', b'i'): 3, (b'i', b'd'): 3, (b'd', b'e'): 3, (b'e', b's'): 9, (b's', b't'): 9, (b'n', b'e'): 6, (b'e', b'w'): 6}\n",
      "defaultdict(<class 'set'>, {(b'\\xe6', b'\\xb5'): {((b'\\xe6', b'\\xb5', b'\\x8b', b'\\xe8', b'\\xaf', b'\\x95'), 0)}, (b'\\xb5', b'\\x8b'): {((b'\\xe6', b'\\xb5', b'\\x8b', b'\\xe8', b'\\xaf', b'\\x95'), 1)}, (b'\\x8b', b'\\xe8'): {((b'\\xe6', b'\\xb5', b'\\x8b', b'\\xe8', b'\\xaf', b'\\x95'), 2)}, (b'\\xe8', b'\\xaf'): {((b'\\xe6', b'\\xb5', b'\\x8b', b'\\xe8', b'\\xaf', b'\\x95'), 3)}, (b'\\xaf', b'\\x95'): {((b'\\xe6', b'\\xb5', b'\\x8b', b'\\xe8', b'\\xaf', b'\\x95'), 4)}, (b'l', b'o'): {((b'l', b'o', b'w', b'e', b'r'), 0), ((b'l', b'o', b'w'), 0)}, (b'o', b'w'): {((b'l', b'o', b'w', b'e', b'r'), 1), ((b'l', b'o', b'w'), 1)}, (b'w', b'e'): {((b'n', b'e', b'w', b'e', b's', b't'), 2), ((b'l', b'o', b'w', b'e', b'r'), 2)}, (b'e', b'r'): {((b'l', b'o', b'w', b'e', b'r'), 3)}, (b'w', b'i'): {((b'w', b'i', b'd', b'e', b's', b't'), 0)}, (b'i', b'd'): {((b'w', b'i', b'd', b'e', b's', b't'), 1)}, (b'd', b'e'): {((b'w', b'i', b'd', b'e', b's', b't'), 2)}, (b'e', b's'): {((b'n', b'e', b'w', b'e', b's', b't'), 3), ((b'w', b'i', b'd', b'e', b's', b't'), 3)}, (b's', b't'): {((b'n', b'e', b'w', b'e', b's', b't'), 4), ((b'w', b'i', b'd', b'e', b's', b't'), 4)}, (b'n', b'e'): {((b'n', b'e', b'w', b'e', b's', b't'), 0)}, (b'e', b'w'): {((b'n', b'e', b'w', b'e', b's', b't'), 1)}})\n"
     ]
    }
   ],
   "source": [
    "def get_bp_freq_table(token_list):\n",
    "    freq_table_bytes = get_freq_table(token_list)\n",
    "    bp_freq_table = Counter()\n",
    "    token_index = defaultdict(set)\n",
    "    for b, f in freq_table_bytes.items():\n",
    "        for i in range(len(b) - 1):\n",
    "            bp_freq_table[(b[i], b[i + 1])] += f\n",
    "            token_index[(b[i], b[i + 1])].add((b, i))\n",
    "    return dict(bp_freq_table), token_index\n",
    "\n",
    "bp_freq_table, token_index = get_bp_freq_table(pre_tokens)\n",
    "print(bp_freq_table)\n",
    "print(token_index)"
   ]
  },
  {
   "cell_type": "code",
   "execution_count": 37,
   "id": "f6f9cfbe",
   "metadata": {},
   "outputs": [
    {
     "name": "stdout",
     "output_type": "stream",
     "text": [
      "((b's', b't'), 9)\n"
     ]
    }
   ],
   "source": [
    "def get_most_freq_pair(bp_freq_table):\n",
    "    # get top 1, if tied, return lexicographically\n",
    "    return max(bp_freq_table.items(), key=lambda kv: (kv[1], kv[0]))\n",
    "\n",
    "print(get_most_freq_pair(bp_freq_table))"
   ]
  },
  {
   "cell_type": "code",
   "execution_count": 90,
   "id": "2cf12715",
   "metadata": {},
   "outputs": [
    {
     "name": "stdout",
     "output_type": "stream",
     "text": [
      "Bumping (b'e', b's') to 3 with delta -6\n",
      "Bumping (b's', b't') to 3 with delta -6\n",
      "Bumping (b'e', b'st') to 6 with delta 6\n",
      "Adding (b'n', b'e', b'w', b'e', b'st') with freq 6 (b'n', b'e', b'w', b'e', b's', b't')\n",
      "Bumping (b'e', b's') to 0 with delta -3\n",
      "Bumping (b's', b't') to 0 with delta -3\n",
      "Bumping (b'e', b'st') to 9 with delta 3\n",
      "Adding (b'w', b'i', b'd', b'e', b'st') with freq 3 (b'w', b'i', b'd', b'e', b's', b't')\n",
      "b'st' defaultdict(<class 'set'>, {(b'l', b'o'): {((b'l', b'o', b'w', b'e', b'r'), 0), ((b'l', b'o', b'w'), 0)}, (b'o', b'w'): {((b'l', b'o', b'w', b'e', b'r'), 1), ((b'l', b'o', b'w'), 1)}, (b'w', b'e'): {((b'l', b'o', b'w', b'e', b'r'), 2), ((b'n', b'e', b'w', b'e', b'st'), 2)}, (b'e', b'r'): {((b'l', b'o', b'w', b'e', b'r'), 3)}, (b'n', b'e'): {((b'n', b'e', b'w', b'e', b'st'), 0)}, (b'e', b'w'): {((b'n', b'e', b'w', b'e', b'st'), 1)}, (b'e', b'st'): {((b'w', b'i', b'd', b'e', b'st'), 3), ((b'n', b'e', b'w', b'e', b'st'), 3)}, (b'w', b'i'): {((b'w', b'i', b'd', b'e', b'st'), 0)}, (b'i', b'd'): {((b'w', b'i', b'd', b'e', b'st'), 1)}, (b'd', b'e'): {((b'w', b'i', b'd', b'e', b'st'), 2)}})\n"
     ]
    }
   ],
   "source": [
    "def one_merging_step(bp_freq_table, token_freq_table, token_index):\n",
    "    (x, y), _ = get_most_freq_pair(bp_freq_table)\n",
    "    merged = x + y\n",
    "\n",
    "    occurrences = list(token_index.pop((x, y)))\n",
    "    tok_pos = defaultdict(list)\n",
    "    for tok, i in occurrences:\n",
    "        tok_pos[tok].append(i)\n",
    "\n",
    "    def bump(bp, freq_delta):\n",
    "        if bp is None:\n",
    "            return\n",
    "        new_freq = bp_freq_table.get(bp, 0) + freq_delta\n",
    "        if new_freq > 0:\n",
    "            bp_freq_table[bp] = new_freq\n",
    "        else:\n",
    "            bp_freq_table.pop(bp)\n",
    "        print(f\"Bumping {bp} to {new_freq} with delta {freq_delta}\")\n",
    "\n",
    "    def remove_token_from_index(tok_to_remove):\n",
    "        L = len(tok_to_remove)\n",
    "        for i in range(L - 1):\n",
    "            pair = (tok_to_remove[i], tok_to_remove[i+1])\n",
    "            s = token_index.get(pair)\n",
    "            if s is None:\n",
    "                continue\n",
    "            s.discard((tok_to_remove, i))\n",
    "            if not s:\n",
    "                token_index.pop(pair)\n",
    "            # print(f\"Removing {tok} from {tok_to_remove}\")\n",
    "\n",
    "    def add_token_to_index(tok_to_add, freq):\n",
    "        L = len(tok_to_add)\n",
    "        for i in range(L - 1):\n",
    "            pair = (tok_to_add[i], tok_to_add[i+1])\n",
    "            token_index.setdefault(pair, set()).add((tok_to_add, i))\n",
    "            # bump(pair, freq)\n",
    "        # print(f\"Adding {tok_to_add, freq}\")\n",
    "        \n",
    "        \n",
    "    # print(tok_pos)\n",
    "    for tok, pos in tok_pos.items():\n",
    "        freq = token_freq_table[tok]\n",
    "        pos.sort(reverse=True)\n",
    "\n",
    "        cur = list(tok)\n",
    "        # print(cur)\n",
    "        merged_start_idx = float(\"inf\")\n",
    "\n",
    "        remove_token_from_index(tok)\n",
    "        for i in pos:\n",
    "            if i + 1 >= merged_start_idx:\n",
    "                continue\n",
    "            if i + 1 >= len(cur) or cur[i] != x or cur[i+1] != y:\n",
    "                continue\n",
    "\n",
    "            L_sym = cur[i-1] if i-1 >= 0 else None\n",
    "            R_sym = cur[i+2] if i+2 < len(cur) else None\n",
    "            # print(i, pos)\n",
    "            # print(L_sym, R_sym, merged, merged_start_idx)\n",
    "            if L_sym is not None:\n",
    "                bump((L_sym, x), -freq)\n",
    "            bump((x, y), -freq)\n",
    "            if R_sym is not None:\n",
    "                bump((y, R_sym), -freq)\n",
    "\n",
    "            cur[i:i+2] = [merged]\n",
    "            # print(cur)\n",
    "            if L_sym is not None:\n",
    "                bump((L_sym, merged), +freq)\n",
    "            if R_sym is not None:\n",
    "                bump((merged, R_sym), +freq)\n",
    "                \n",
    "            merged_start_idx = i\n",
    "\n",
    "        new_tok = tuple(cur)\n",
    "        if new_tok != tok:\n",
    "            token_freq_table.pop(tok)\n",
    "            token_freq_table[new_tok] = freq\n",
    "            print(f\"Adding {new_tok} with freq {freq}\", tok)\n",
    "        add_token_to_index(new_tok, freq)\n",
    "\n",
    "    bp_freq_table.pop((x, y), None)\n",
    "\n",
    "    return merged\n",
    "\n",
    "freq_table = get_freq_table(pre_tokens)\n",
    "bp_freq_table, token_index = get_bp_freq_table(pre_tokens)\n",
    "print(one_merging_step(bp_freq_table, freq_table, token_index), token_index)"
   ]
  },
  {
   "cell_type": "code",
   "execution_count": 94,
   "id": "ad7fbcf9",
   "metadata": {},
   "outputs": [
    {
     "name": "stdout",
     "output_type": "stream",
     "text": [
      "Bumping (b'e', b's') to 3 with delta -6\n",
      "Bumping (b's', b't') to 3 with delta -6\n",
      "Bumping (b'e', b'st') to 6 with delta 6\n",
      "Adding (b'n', b'e', b'w', b'e', b'st') with freq 6 (b'n', b'e', b'w', b'e', b's', b't')\n",
      "Bumping (b'e', b's') to 0 with delta -3\n",
      "Bumping (b's', b't') to 0 with delta -3\n",
      "Bumping (b'e', b'st') to 9 with delta 3\n",
      "Adding (b'w', b'i', b'd', b'e', b'st') with freq 3 (b'w', b'i', b'd', b'e', b's', b't')\n",
      "0 Counter({(b'e', b's'): 9, (b's', b't'): 9, (b'w', b'e'): 8, (b'l', b'o'): 7, (b'o', b'w'): 7, (b'n', b'e'): 6, (b'e', b'w'): 6, (b'w', b'i'): 3, (b'i', b'd'): 3, (b'd', b'e'): 3, (b'e', b'r'): 2}) ==\n",
      " b'st'\n",
      "Bumping (b'd', b'e') to 0 with delta -3\n",
      "Bumping (b'e', b'st') to 6 with delta -3\n",
      "Bumping (b'd', b'est') to 3 with delta 3\n",
      "Adding (b'w', b'i', b'd', b'est') with freq 3 (b'w', b'i', b'd', b'e', b'st')\n",
      "Bumping (b'w', b'e') to 2 with delta -6\n",
      "Bumping (b'e', b'st') to 0 with delta -6\n",
      "Bumping (b'w', b'est') to 6 with delta 6\n",
      "Adding (b'n', b'e', b'w', b'est') with freq 6 (b'n', b'e', b'w', b'e', b'st')\n",
      "1 Counter({(b'e', b'st'): 9, (b'w', b'e'): 8, (b'l', b'o'): 7, (b'o', b'w'): 7, (b'n', b'e'): 6, (b'e', b'w'): 6, (b'w', b'i'): 3, (b'i', b'd'): 3, (b'd', b'e'): 3, (b'e', b'r'): 2}) ==\n",
      " b'est'\n",
      "Bumping (b'l', b'o') to 5 with delta -2\n",
      "Bumping (b'o', b'w') to 5 with delta -2\n",
      "Bumping (b'w', b'e') to 0 with delta -2\n",
      "Bumping (b'l', b'ow') to 2 with delta 2\n",
      "Bumping (b'ow', b'e') to 2 with delta 2\n",
      "Adding (b'l', b'ow', b'e', b'r') with freq 2 (b'l', b'o', b'w', b'e', b'r')\n",
      "Bumping (b'l', b'o') to 0 with delta -5\n",
      "Bumping (b'o', b'w') to 0 with delta -5\n",
      "Bumping (b'l', b'ow') to 7 with delta 5\n",
      "Adding (b'l', b'ow') with freq 5 (b'l', b'o', b'w')\n",
      "2 Counter({(b'l', b'o'): 7, (b'o', b'w'): 7, (b'n', b'e'): 6, (b'e', b'w'): 6, (b'w', b'est'): 6, (b'w', b'i'): 3, (b'i', b'd'): 3, (b'd', b'est'): 3, (b'w', b'e'): 2, (b'e', b'r'): 2}) ==\n",
      " b'ow'\n",
      "Bumping (b'l', b'ow') to 5 with delta -2\n",
      "Bumping (b'ow', b'e') to 0 with delta -2\n",
      "Bumping (b'low', b'e') to 2 with delta 2\n",
      "Adding (b'low', b'e', b'r') with freq 2 (b'l', b'ow', b'e', b'r')\n",
      "Bumping (b'l', b'ow') to 0 with delta -5\n",
      "Adding (b'low',) with freq 5 (b'l', b'ow')\n",
      "3 Counter({(b'l', b'ow'): 7, (b'n', b'e'): 6, (b'e', b'w'): 6, (b'w', b'est'): 6, (b'w', b'i'): 3, (b'i', b'd'): 3, (b'd', b'est'): 3, (b'e', b'r'): 2, (b'ow', b'e'): 2}) ==\n",
      " b'low'\n",
      "Bumping (b'e', b'w') to 0 with delta -6\n",
      "Bumping (b'w', b'est') to 0 with delta -6\n",
      "Bumping (b'e', b'west') to 6 with delta 6\n",
      "Adding (b'n', b'e', b'west') with freq 6 (b'n', b'e', b'w', b'est')\n",
      "4 Counter({(b'n', b'e'): 6, (b'e', b'w'): 6, (b'w', b'est'): 6, (b'w', b'i'): 3, (b'i', b'd'): 3, (b'd', b'est'): 3, (b'e', b'r'): 2, (b'low', b'e'): 2}) ==\n",
      " b'west'\n",
      "Bumping (b'n', b'e') to 0 with delta -6\n",
      "Bumping (b'e', b'west') to 0 with delta -6\n",
      "Bumping (b'ne', b'west') to 6 with delta 6\n",
      "Adding (b'ne', b'west') with freq 6 (b'n', b'e', b'west')\n",
      "5 Counter({(b'n', b'e'): 6, (b'e', b'west'): 6, (b'w', b'i'): 3, (b'i', b'd'): 3, (b'd', b'est'): 3, (b'e', b'r'): 2, (b'low', b'e'): 2}) ==\n",
      " b'ne'\n",
      "Bumping (b'ne', b'west') to 0 with delta -6\n",
      "Adding (b'newest',) with freq 6 (b'ne', b'west')\n",
      "6 Counter({(b'ne', b'west'): 6, (b'w', b'i'): 3, (b'i', b'd'): 3, (b'd', b'est'): 3, (b'e', b'r'): 2, (b'low', b'e'): 2}) ==\n",
      " b'newest'\n",
      "Bumping (b'w', b'i') to 0 with delta -3\n",
      "Bumping (b'i', b'd') to 0 with delta -3\n",
      "Bumping (b'wi', b'd') to 3 with delta 3\n",
      "Adding (b'wi', b'd', b'est') with freq 3 (b'w', b'i', b'd', b'est')\n",
      "7 Counter({(b'w', b'i'): 3, (b'i', b'd'): 3, (b'd', b'est'): 3, (b'e', b'r'): 2, (b'low', b'e'): 2}) ==\n",
      " b'wi'\n",
      "Bumping (b'wi', b'd') to 0 with delta -3\n",
      "Bumping (b'd', b'est') to 0 with delta -3\n",
      "Bumping (b'wid', b'est') to 3 with delta 3\n",
      "Adding (b'wid', b'est') with freq 3 (b'wi', b'd', b'est')\n",
      "8 Counter({(b'd', b'est'): 3, (b'wi', b'd'): 3, (b'e', b'r'): 2, (b'low', b'e'): 2}) ==\n",
      " b'wid'\n",
      "Bumping (b'wid', b'est') to 0 with delta -3\n",
      "Adding (b'widest',) with freq 3 (b'wid', b'est')\n",
      "9 Counter({(b'wid', b'est'): 3, (b'e', b'r'): 2, (b'low', b'e'): 2}) ==\n",
      " b'widest'\n",
      "Bumping (b'low', b'e') to 0 with delta -2\n",
      "Bumping (b'e', b'r') to 0 with delta -2\n",
      "Bumping (b'lowe', b'r') to 2 with delta 2\n",
      "Adding (b'lowe', b'r') with freq 2 (b'low', b'e', b'r')\n",
      "10 Counter({(b'e', b'r'): 2, (b'low', b'e'): 2}) ==\n",
      " b'lowe'\n",
      "Bumping (b'lowe', b'r') to 0 with delta -2\n",
      "Adding (b'lower',) with freq 2 (b'lowe', b'r')\n",
      "11 Counter({(b'lowe', b'r'): 2}) ==\n",
      " b'lower'\n"
     ]
    }
   ],
   "source": [
    "freq_table = get_freq_table(pre_tokens)\n",
    "bp_freq_table, token_index = get_bp_freq_table(pre_tokens)\n",
    "for _ in range(12):\n",
    "    print(_, Counter(bp_freq_table), \"==\\n\", one_merging_step(bp_freq_table, freq_table, token_index))"
   ]
  },
  {
   "cell_type": "code",
   "execution_count": 2,
   "id": "2c907c84",
   "metadata": {},
   "outputs": [
    {
     "data": {
      "text/plain": [
       "(b'as', b't')"
      ]
     },
     "execution_count": 2,
     "metadata": {},
     "output_type": "execute_result"
    }
   ],
   "source": [
    "max([(b'as', b't'), (b' .', b'..')])"
   ]
  },
  {
   "cell_type": "code",
   "execution_count": 2,
   "id": "3384ac61",
   "metadata": {},
   "outputs": [
    {
     "ename": "UnicodeDecodeError",
     "evalue": "'utf-8' codec can't decode byte 0x80 in position 0: invalid start byte",
     "output_type": "error",
     "traceback": [
      "\u001b[0;31m---------------------------------------------------------------------------\u001b[0m",
      "\u001b[0;31mUnicodeDecodeError\u001b[0m                        Traceback (most recent call last)",
      "Cell \u001b[0;32mIn[2], line 1\u001b[0m\n\u001b[0;32m----> 1\u001b[0m \u001b[38;5;124;43mb\u001b[39;49m\u001b[38;5;124;43m'\u001b[39;49m\u001b[38;5;130;43;01m\\x80\u001b[39;49;00m\u001b[38;5;124;43m'\u001b[39;49m\u001b[38;5;241;43m.\u001b[39;49m\u001b[43mdecode\u001b[49m\u001b[43m(\u001b[49m\u001b[38;5;124;43m\"\u001b[39;49m\u001b[38;5;124;43mutf-8\u001b[39;49m\u001b[38;5;124;43m\"\u001b[39;49m\u001b[43m,\u001b[49m\u001b[43m \u001b[49m\u001b[43merrors\u001b[49m\u001b[38;5;241;43m=\u001b[39;49m\u001b[38;5;124;43m\"\u001b[39;49m\u001b[38;5;124;43mstrict\u001b[39;49m\u001b[38;5;124;43m\"\u001b[39;49m\u001b[43m)\u001b[49m\n",
      "\u001b[0;31mUnicodeDecodeError\u001b[0m: 'utf-8' codec can't decode byte 0x80 in position 0: invalid start byte"
     ]
    }
   ],
   "source": [
    "b'\\x80'.decode(\"utf-8\", errors=\"strict\")"
   ]
  },
  {
   "cell_type": "code",
   "execution_count": 2,
   "id": "9a94ce89",
   "metadata": {},
   "outputs": [],
   "source": [
    "import json\n",
    "\n",
    "with open(\"/Users/haotiansun/cs336/assignment1-basics/tokenizers/tinystories/vocab.json\", \"r\") as f:\n",
    "    vocab_str = json.load(f)"
   ]
  },
  {
   "cell_type": "code",
   "execution_count": 8,
   "id": "a2e6cdb7",
   "metadata": {},
   "outputs": [
    {
     "data": {
      "text/plain": [
       "b'\\x0c'"
      ]
     },
     "execution_count": 8,
     "metadata": {},
     "output_type": "execute_result"
    }
   ],
   "source": [
    "vocab_str\n",
    "\n",
    "list(vocab_str.keys())[13].encode('utf-8')"
   ]
  }
 ],
 "metadata": {
  "kernelspec": {
   "display_name": "cs336",
   "language": "python",
   "name": "python3"
  },
  "language_info": {
   "codemirror_mode": {
    "name": "ipython",
    "version": 3
   },
   "file_extension": ".py",
   "mimetype": "text/x-python",
   "name": "python",
   "nbconvert_exporter": "python",
   "pygments_lexer": "ipython3",
   "version": "3.10.18"
  }
 },
 "nbformat": 4,
 "nbformat_minor": 5
}
